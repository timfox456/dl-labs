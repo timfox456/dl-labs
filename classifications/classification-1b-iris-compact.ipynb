{
 "cells": [
  {
   "cell_type": "markdown",
   "metadata": {},
   "source": [
    "# IRIS Classification Compact Code"
   ]
  },
  {
   "cell_type": "code",
   "execution_count": 2,
   "metadata": {},
   "outputs": [
    {
     "name": "stdout",
     "output_type": "stream",
     "text": [
      "Epoch 1/20\n",
      "3/3 [==============================] - 0s 105ms/step - loss: 1.9429 - accuracy: 0.3438 - val_loss: 1.7841 - val_accuracy: 0.2500\n",
      "Epoch 2/20\n",
      "3/3 [==============================] - 0s 24ms/step - loss: 1.6213 - accuracy: 0.3438 - val_loss: 1.4907 - val_accuracy: 0.2500\n",
      "Epoch 3/20\n",
      "3/3 [==============================] - 0s 29ms/step - loss: 1.3777 - accuracy: 0.3438 - val_loss: 1.2756 - val_accuracy: 0.2500\n",
      "Epoch 4/20\n",
      "3/3 [==============================] - 0s 18ms/step - loss: 1.1835 - accuracy: 0.3438 - val_loss: 1.1345 - val_accuracy: 0.2500\n",
      "Epoch 5/20\n",
      "3/3 [==============================] - 0s 26ms/step - loss: 1.0432 - accuracy: 0.3438 - val_loss: 1.0292 - val_accuracy: 0.2500\n",
      "Epoch 6/20\n",
      "3/3 [==============================] - 0s 21ms/step - loss: 0.9402 - accuracy: 0.3542 - val_loss: 0.9549 - val_accuracy: 0.2917\n",
      "Epoch 7/20\n",
      "3/3 [==============================] - 0s 21ms/step - loss: 0.8534 - accuracy: 0.5208 - val_loss: 0.9045 - val_accuracy: 0.5417\n",
      "Epoch 8/20\n",
      "3/3 [==============================] - 0s 31ms/step - loss: 0.7842 - accuracy: 0.7292 - val_loss: 0.8667 - val_accuracy: 0.5417\n",
      "Epoch 9/20\n",
      "3/3 [==============================] - 0s 24ms/step - loss: 0.7346 - accuracy: 0.7292 - val_loss: 0.8394 - val_accuracy: 0.5417\n",
      "Epoch 10/20\n",
      "3/3 [==============================] - 0s 18ms/step - loss: 0.6922 - accuracy: 0.7292 - val_loss: 0.8162 - val_accuracy: 0.5417\n",
      "Epoch 11/20\n",
      "3/3 [==============================] - 0s 25ms/step - loss: 0.6545 - accuracy: 0.7292 - val_loss: 0.7903 - val_accuracy: 0.5417\n",
      "Epoch 12/20\n",
      "3/3 [==============================] - 0s 29ms/step - loss: 0.6254 - accuracy: 0.7292 - val_loss: 0.7692 - val_accuracy: 0.5417\n",
      "Epoch 13/20\n",
      "3/3 [==============================] - 0s 19ms/step - loss: 0.6015 - accuracy: 0.7292 - val_loss: 0.7470 - val_accuracy: 0.5417\n",
      "Epoch 14/20\n",
      "3/3 [==============================] - 0s 16ms/step - loss: 0.5808 - accuracy: 0.7292 - val_loss: 0.7299 - val_accuracy: 0.5417\n",
      "Epoch 15/20\n",
      "3/3 [==============================] - 0s 30ms/step - loss: 0.5617 - accuracy: 0.7292 - val_loss: 0.7055 - val_accuracy: 0.5417\n",
      "Epoch 16/20\n",
      "3/3 [==============================] - 0s 23ms/step - loss: 0.5426 - accuracy: 0.7292 - val_loss: 0.6864 - val_accuracy: 0.5417\n",
      "Epoch 17/20\n",
      "3/3 [==============================] - 0s 25ms/step - loss: 0.5267 - accuracy: 0.7292 - val_loss: 0.6665 - val_accuracy: 0.5417\n",
      "Epoch 18/20\n",
      "3/3 [==============================] - 0s 20ms/step - loss: 0.5115 - accuracy: 0.7292 - val_loss: 0.6478 - val_accuracy: 0.5417\n",
      "Epoch 19/20\n",
      "3/3 [==============================] - 0s 21ms/step - loss: 0.4984 - accuracy: 0.7292 - val_loss: 0.6319 - val_accuracy: 0.5417\n",
      "Epoch 20/20\n",
      "3/3 [==============================] - 0s 26ms/step - loss: 0.4868 - accuracy: 0.7292 - val_loss: 0.6210 - val_accuracy: 0.5417\n",
      "1/1 [==============================] - 0s 1ms/step - loss: 0.5681 - accuracy: 0.5667\n",
      "[0.5680601596832275, 0.5666666626930237]\n"
     ]
    },
    {
     "data": {
      "image/png": "[encoded data removed]",
      "text/plain": [
       "<Figure size 432x288 with 1 Axes>"
      ]
     },
     "metadata": {
      "needs_background": "light"
     },
     "output_type": "display_data"
    },
    {
     "name": "stdout",
     "output_type": "stream",
     "text": [
      "softmax output : \n",
      "[[0.06336368 0.30224004 0.63439626]\n",
      " [0.18391804 0.3417547  0.47432724]\n",
      " [0.94848555 0.03701082 0.01450356]\n",
      " [0.04828916 0.27369    0.67802083]\n",
      " [0.898056   0.06840739 0.03353667]]\n",
      "\n",
      "prediction classes:  [2 2 0 2 0]\n"
     ]
    }
   ],
   "source": [
    "%matplotlib inline\n",
    "import os\n",
    "import numpy as np\n",
    "import pandas as pd\n",
    "import matplotlib.pyplot as plt\n",
    "\n",
    "try:\n",
    "  # %tensorflow_version only exists in Colab.\n",
    "  %tensorflow_version 2.x\n",
    "except Exception:\n",
    "  pass\n",
    "\n",
    "import tensorflow as tf\n",
    "from tensorflow import keras\n",
    "\n",
    "from sklearn.preprocessing import LabelEncoder\n",
    "from sklearn.model_selection import train_test_split\n",
    "\n",
    "data_location = \"https://s3.amazonaws.com/elephantscale-public/data/iris/keras/iris.csv\"\n",
    "data_location_local = keras.utils.get_file(fname=os.path.basename(data_location),\n",
    "                                           origin=data_location)\n",
    "iris = pd.read_csv(data_location_local)\n",
    "iris.columns = ['SepalLengthCm', 'SepalWidthCm', 'PetalLengthCm', 'PetalWidthCm','Species']\n",
    "\n",
    "input_columns = ['SepalLengthCm', 'SepalWidthCm', 'PetalLengthCm', 'PetalWidthCm']\n",
    "x = iris [input_columns]\n",
    "y = iris[['Species']]\n",
    "\n",
    "encoder =  LabelEncoder()\n",
    "y1 = encoder.fit_transform(y.values) ## need y.values which is an array\n",
    "\n",
    "\n",
    "# supply 'y1' (encoded labels)\n",
    "x_train,x_test, y_train,y_test = train_test_split(x,y1,test_size=0.2,random_state=0) \n",
    "\n",
    "model = tf.keras.Sequential([\n",
    "            tf.keras.layers.Dense(units=64, activation=tf.nn.relu, input_shape=[x.shape[1]]),\n",
    "            tf.keras.layers.Dense(units=32, activation=tf.nn.relu),\n",
    "            tf.keras.layers.Dense(units=3,  activation=tf.nn.softmax)\n",
    "            ])\n",
    "\n",
    "model.compile(loss='sparse_categorical_crossentropy', \n",
    "                 optimizer='adam',\n",
    "                 metrics=['accuracy'])\n",
    "\n",
    "history = model.fit(\n",
    "              x_train, y_train,\n",
    "              epochs=20, validation_split = 0.2, verbose=1)\n",
    "\n",
    "print (model.evaluate(x_test, y_test))\n",
    "\n",
    "%matplotlib inline\n",
    "import matplotlib.pyplot as plt\n",
    "\n",
    "plt.plot(history.history['accuracy'], label='train_accuracy')\n",
    "plt.plot(history.history['val_accuracy'], label='val_accuracy')\n",
    "plt.legend()\n",
    "plt.show()\n",
    "\n",
    "predictions = model.predict(x_test[:5])\n",
    "print ('softmax output : ')\n",
    "print(predictions)\n",
    "print ()\n",
    "predictions_classes = np.argmax(predictions, axis=-1)\n",
    "print ('prediction classes: ', predictions_classes)"
   ]
  },
  {
   "cell_type": "code",
   "execution_count": null,
   "metadata": {},
   "outputs": [],
   "source": []
  }
 ],
 "metadata": {
  "kernelspec": {
   "display_name": "Python 3",
   "language": "python",
   "name": "python3"
  },
  "language_info": {
   "codemirror_mode": {
    "name": "ipython",
    "version": 3
   },
   "file_extension": ".py",
   "mimetype": "text/x-python",
   "name": "python",
   "nbconvert_exporter": "python",
   "pygments_lexer": "ipython3",
   "version": "3.7.7"
  }
 },
 "nbformat": 4,
 "nbformat_minor": 4
}
