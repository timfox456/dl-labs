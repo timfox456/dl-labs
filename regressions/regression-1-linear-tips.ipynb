{
 "cells": [
  {
   "cell_type": "markdown",
   "metadata": {},
   "source": [
    "# Simple Linear Regression Using Tensorflow v2 High Level API\n"
   ]
  },
  {
   "cell_type": "markdown",
   "metadata": {},
   "source": [
    "## Step 1 : Tips Data\n",
    "\n",
    "Our tips data looks like this\n",
    "\n",
    "```\n",
    "| bill | tip | \n",
    "|------|-----| \n",
    "| 50   | 12  | \n",
    "| 30   | 7   | \n",
    "| 60   | 13  | \n",
    "| 40   | 8   | \n",
    "| 65   | 15  | \n",
    "| 20   | 5   | \n",
    "| 10   | 2   | \n",
    "| 15   | 2   | \n",
    "| 25   | 3   | \n",
    "| 35   | 4   | \n",
    "```"
   ]
  },
  {
   "cell_type": "code",
   "execution_count": null,
   "metadata": {},
   "outputs": [],
   "source": [
    "## Determine if we are running on google colab\n",
    "\n",
    "try:\n",
    "    import google.colab\n",
    "    RUNNING_IN_COLAB = True\n",
    "except:\n",
    "    RUNNING_IN_COLAB = False\n",
    "\n",
    "print (\"Running in Google COLAB : \", RUNNING_IN_COLAB)\n"
   ]
  },
  {
   "cell_type": "code",
   "execution_count": null,
   "metadata": {},
   "outputs": [],
   "source": [
    "%matplotlib inline\n",
    "\n",
    "import numpy as np\n",
    "import pandas as pd\n",
    "import matplotlib.pyplot as plt\n",
    "\n",
    "\n",
    "try:\n",
    "  # %tensorflow_version only exists in Colab.\n",
    "  %tensorflow_version 2.x\n",
    "except Exception:\n",
    "  pass\n",
    "\n",
    "import tensorflow as tf"
   ]
  },
  {
   "cell_type": "code",
   "execution_count": null,
   "metadata": {},
   "outputs": [],
   "source": [
    "## Create some tips data in pandas\n",
    "\n",
    "tip_data = pd.DataFrame({'bill' : [50.00, 30.00, 60.00, 40.00, 65.00, 20.00, 10.00, 15.00, 25.00, 35.00],\n",
    "              'tip' : [12.00, 7.00, 13.00, 8.00, 15.00, 5.00, 2.00, 2.00, 3.00, 4.00]\n",
    "             })\n",
    "\n",
    "tip_data"
   ]
  },
  {
   "cell_type": "code",
   "execution_count": null,
   "metadata": {},
   "outputs": [],
   "source": [
    "## Basic plot\n",
    "plt.scatter(tip_data.bill, tip_data.tip)\n",
    "plt.ylabel('tip')\n",
    "plt.xlabel('bill')\n",
    "plt.show()"
   ]
  },
  {
   "cell_type": "markdown",
   "metadata": {},
   "source": [
    "### Shape Input and Output\n",
    "Our tips data looks pretty linear.  \n",
    "Let's extract 'input' and 'output'"
   ]
  },
  {
   "cell_type": "code",
   "execution_count": null,
   "metadata": {},
   "outputs": [],
   "source": [
    "x = tip_data['bill'].values\n",
    "y = tip_data['tip'].values\n",
    "print('x (bill) = ' + str(x))\n",
    "print('y (tip) = ' + str(y))\n"
   ]
  },
  {
   "cell_type": "markdown",
   "metadata": {},
   "source": [
    "## Step 2 : Define a Simple Linear Model\n",
    "It only has ONE neuron with ONE input"
   ]
  },
  {
   "cell_type": "code",
   "execution_count": null,
   "metadata": {},
   "outputs": [],
   "source": [
    "import tensorflow as tf\n",
    "from tensorflow import keras  # using TF.Keras !\n",
    "\n",
    "\n",
    "\n",
    "model = tf.keras.Sequential()\n",
    "\n",
    "## TODO : Add ONE layer with ONE neuron\n",
    "##        Hint : units=1\n",
    "model.add (keras.layers.Dense(units=???, input_shape=[1]))\n",
    "\n",
    "optimizer = 'sgd'\n",
    "\n",
    "## TODO : try these optimizers one-by-one to get better results\n",
    "\n",
    "# optimizer='adam'\n",
    "# optimizer=tf.keras.optimizers.SGD(0.001)\n",
    "# optimizer=tf.keras.optimizers.SGD(0.01)\n",
    "# optimizer=tf.keras.optimizers.RMSprop(0.001)\n",
    "# optimizer=tf.keras.optimizers.RMSprop(0.01)\n",
    "# optimizer=tf.keras.optimizers.RMSprop(0.1)\n",
    "# optimizer=tf.keras.optimizers.Adam(0.001)\n",
    "# optimizer=tf.keras.optimizers.Adam(0.01)\n",
    "\n",
    "\n",
    "model.compile(optimizer=optimizer, loss='mean_squared_error', \n",
    "             metrics = ['mean_squared_error'])\n",
    "\n",
    "print (model.summary())\n",
    "\n",
    "tf.keras.utils.plot_model(model, to_file='model.png', show_shapes=True)"
   ]
  },
  {
   "cell_type": "markdown",
   "metadata": {},
   "source": [
    "## Step 3 : Train The Neural Network\n",
    "This is where we supply our model 'input' data to train on.  \n",
    "**Goal : We want the loss to as small as possible (if zero, it is perfect model!)**"
   ]
  },
  {
   "cell_type": "code",
   "execution_count": null,
   "metadata": {},
   "outputs": [],
   "source": [
    "%%time \n",
    "## TODO : start with 100 epochs,\n",
    "##         increase it (500, 1000) to see if accuracy improves\n",
    "\n",
    "history = model.fit (x,y, epochs=???)"
   ]
  },
  {
   "cell_type": "markdown",
   "metadata": {},
   "source": [
    "## Step 4 : Evaluate the Run\n",
    "If you are seeing the loss value getting larger and larger  or seeing 'inf' or 'nan' values, your neural network is not converging :)  \n",
    "\n",
    "Don't worry, it is an easy fix.  Change the optimizer above in Step-2 (uncomment one of the optimizers and try again)"
   ]
  },
  {
   "cell_type": "markdown",
   "metadata": {},
   "source": [
    "## Step 5 : See Training Metrics"
   ]
  },
  {
   "cell_type": "code",
   "execution_count": null,
   "metadata": {},
   "outputs": [],
   "source": [
    "%matplotlib inline\n",
    "import matplotlib.pyplot as plt\n",
    "\n",
    "if 'mean_squared_error' in history.history:\n",
    "    plt.plot(history.history['mean_squared_error'], label='mse')\n",
    "\n",
    "plt.legend()\n",
    "plt.show()"
   ]
  },
  {
   "cell_type": "markdown",
   "metadata": {},
   "source": [
    "## Step 6 : Predict \n",
    "Now that our model is ready, lets predict tip for $100.  \n",
    "\n",
    "**==> Q : How good is our neural network tip calculator? :-)**"
   ]
  },
  {
   "cell_type": "code",
   "execution_count": null,
   "metadata": {},
   "outputs": [],
   "source": [
    "predicted = model.predict([100.])\n",
    "print (\"predicted tip : \", predicted)"
   ]
  },
  {
   "cell_type": "markdown",
   "metadata": {},
   "source": [
    "## Bonus Lab\n",
    "Find the best optimizer !\n",
    "\n",
    "Take a look at [Available optimizers](https://www.tensorflow.org/versions/r2.0/api_docs/python/tf/keras/optimizers)\n",
    "\n",
    "Try a few and see which one gives you better result"
   ]
  }
 ],
 "metadata": {
  "kernelspec": {
   "display_name": "Python 3",
   "language": "python",
   "name": "python3"
  },
  "language_info": {
   "codemirror_mode": {
    "name": "ipython",
    "version": 3
   },
   "file_extension": ".py",
   "mimetype": "text/x-python",
   "name": "python",
   "nbconvert_exporter": "python",
   "pygments_lexer": "ipython3",
   "version": "3.7.6"
  }
 },
 "nbformat": 4,
 "nbformat_minor": 4
}
